{
 "cells": [
  {
   "cell_type": "code",
   "execution_count": 1,
   "metadata": {},
   "outputs": [
    {
     "name": "stdout",
     "output_type": "stream",
     "text": [
      "Conversion complete!\n"
     ]
    }
   ],
   "source": [
    "import os\n",
    "from PIL import Image\n",
    "\n",
    "# Input and output folder\n",
    "input_folder = \"./assets\"\n",
    "output_folder = \"./assets\"\n",
    "\n",
    "os.makedirs(output_folder, exist_ok=True)\n",
    "\n",
    "# Process all PNG files\n",
    "for filename in os.listdir(input_folder):\n",
    "    if filename.lower().endswith(\".png\"):\n",
    "        input_path = os.path.join(input_folder, filename)\n",
    "        output_path = os.path.join(output_folder, filename)\n",
    "        \n",
    "        # Open image\n",
    "        img = Image.open(input_path).convert(\"RGBA\")\n",
    "        \n",
    "        # Create white background\n",
    "        white_bg = Image.new(\"RGBA\", img.size, (255, 255, 255, 255))\n",
    "        white_bg.paste(img, (0, 0), img)\n",
    "        \n",
    "        # Convert to RGB (removes alpha)\n",
    "        final_img = white_bg.convert(\"RGB\")\n",
    "        \n",
    "        # Save\n",
    "        final_img.save(output_path)\n",
    "\n",
    "print(\"Conversion complete!\")\n"
   ]
  },
  {
   "cell_type": "code",
   "execution_count": null,
   "metadata": {},
   "outputs": [],
   "source": []
  }
 ],
 "metadata": {
  "language_info": {
   "name": "python"
  }
 },
 "nbformat": 4,
 "nbformat_minor": 2
}
